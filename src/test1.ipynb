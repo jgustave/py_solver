{
 "cells": [
  {
   "cell_type": "code",
   "execution_count": 1,
   "metadata": {
    "collapsed": true
   },
   "outputs": [],
   "source": [
    "from math import exp\n",
    "from math import log\n",
    "from scipy.optimize import minimize, NonlinearConstraint\n",
    "from numpy import random\n",
    "import numpy as np\n",
    "\n"
   ]
  },
  {
   "cell_type": "code",
   "execution_count": 2,
   "outputs": [],
   "source": [
    "#AOV,ProductMargin,InterceptS1,ElasticityS1,InterceptS2,ElasticityS2,Cell1,Cell3,MaxSpend,MinSpend\n",
    "demo_data=((58.398254103185,0.350000000000,1.240958573018,0.972529086443,0.947600000000,0.485600000000,0.017500000000,0.091200000000,2678.112413793100,223.176034482759),\n",
    "(61.860509649813,0.350000000000,2.824050392671,0.701792889806,1.273900000000,0.497500000000,0.010600000000,0.171100000000,19220.313103448300,1601.692758620690),\n",
    "(64.868840885516,0.350000000000,2.765981178645,0.592331961459,0.507300000000,0.311000000000,-0.028300000000,0.290900000000,6178.235172413790,514.852931034483),\n",
    "(57.055295826294,0.350000000000,2.616352828903,0.793574991918,0.962800000000,0.374000000000,-0.160000000000,0.201300000000,34214.201379310300,2851.183448275860),\n",
    "(53.339351098952,0.350000000000,3.459025959398,0.639025558378,0.700200000000,0.401300000000,-0.040000000000,0.220400000000,15668.333793103500,1305.694482758620),\n",
    "(57.141460576909,0.350000000000,3.109883143990,0.637343349177,0.313700000000,0.342500000000,-0.257900000000,0.109100000000,4569.748965517240,380.812413793103),\n",
    "(54.303740674486,0.350000000000,2.802426933379,0.705420443934,-0.006200000000,0.498300000000,-0.215500000000,0.034900000000,35291.178620689700,2940.931551724140),\n",
    "(58.207317015877,0.350000000000,2.368526776965,0.801904503936,0.185000000000,0.340400000000,-0.187300000000,0.068300000000,121892.886206897000,10157.740517241400),\n",
    "(45.866035481002,0.350000000000,1.850779610802,0.826975638316,0.567300000000,0.356300000000,-0.136000000000,0.250100000000,29369.933793103400,2447.494482758620),\n",
    "(61.091147332545,0.350000000000,1.572153431275,0.841809663771,0.772800000000,0.402800000000,-0.127900000000,0.108000000000,6427.555862068970,535.629655172414),\n",
    "(61.832525462645,0.350000000000,2.366966342046,0.650404032434,0.486400000000,0.392200000000,-0.105600000000,0.145500000000,921.386896551724,76.782241379310),\n",
    "(69.123493975904,0.350000000000,1.458999858048,0.734114878832,0.796100000000,0.444900000000,0.067800000000,0.212500000000,765.529655172414,63.794137931035),\n",
    "(54.582053560097,0.350000000000,3.445394224353,0.629658972765,0.514600000000,0.365300000000,-0.119700000000,0.205000000000,2754.782068965510,229.565172413793),\n",
    "(63.363514362886,0.350000000000,3.105644046298,0.659563081967,-2.087600000000,0.836600000000,-0.270900000000,-0.346500000000,5639.108275862070,469.925689655172),\n",
    "(68.766321623604,0.350000000000,1.957505168968,0.763021738184,0.456500000000,0.359400000000,-0.325900000000,0.086800000000,3783.388965517240,315.282413793103),\n",
    "(62.088997140739,0.350000000000,1.838232507764,0.805126690512,-0.097600000000,0.499600000000,0.058900000000,0.037300000000,5498.176551724140,458.181379310345),\n",
    "(59.033682968590,0.350000000000,2.414406163328,0.681268789615,0.061300000000,0.288400000000,-0.280600000000,-0.048700000000,1742.085517241380,145.173793103448),\n",
    "(66.366872984693,0.350000000000,2.034724730917,0.693761030828,-0.474100000000,0.437100000000,-0.296100000000,-0.201700000000,3263.333793103450,271.944482758621),\n",
    "(58.267377535477,0.350000000000,3.582341459301,0.598611730154,0.679900000000,0.408600000000,-0.186200000000,0.113600000000,2549.025517241380,212.418793103448),\n",
    "(64.020685449445,0.350000000000,2.144822372282,0.782768983780,0.398100000000,0.376800000000,-0.134600000000,0.107700000000,1407.103448275860,117.258620689655),\n",
    "(57.989568256752,0.350000000000,3.111560995503,0.681619772176,0.651400000000,0.408800000000,-0.302400000000,0.133400000000,5960.908965517240,496.742413793103),\n",
    "(62.677089130078,0.350000000000,2.259706266347,0.761997339858,0.554900000000,0.394400000000,-0.213200000000,-0.019900000000,9581.627586206900,798.468965517242),\n",
    "(49.109576291942,0.350000000000,1.525173011762,0.867551185288,1.445800000000,0.453000000000,-0.102500000000,0.066600000000,2434.460689655170,202.871724137931),\n",
    "(57.996962922344,0.350000000000,2.954453407024,0.618675670867,-0.389700000000,0.364600000000,0.010300000000,0.143300000000,2625.984827586210,218.832068965517),\n",
    "(67.103518146607,0.350000000000,2.313515823579,0.655115088907,0.152400000000,0.391600000000,-0.224800000000,0.176900000000,3567.986896551720,297.332241379310),\n",
    "(48.445671806536,0.350000000000,3.694874632150,0.636428644057,0.135800000000,0.392800000000,-0.177700000000,0.285800000000,5615.745517241380,467.978793103448),\n",
    "(53.560166822212,0.350000000000,3.153453719239,0.629555982011,-1.193600000000,0.481400000000,0.092300000000,0.211700000000,2975.228275862070,247.935689655172),\n",
    "(49.302847489449,0.350000000000,3.424992607444,0.659565052463,0.462600000000,0.371800000000,-0.172100000000,0.171300000000,14352.246206896600,1196.020517241380),\n",
    "(58.647357052967,0.350000000000,2.231210790520,0.755136276796,-0.866000000000,0.383300000000,-0.167500000000,-0.009700000000,8588.548965517240,715.712413793104),\n",
    "(44.471020100403,0.350000000000,1.931106245018,0.784413621055,0.103200000000,0.356300000000,-0.092000000000,0.119100000000,8496.473793103450,708.039482758621),\n",
    "(57.390083965848,0.350000000000,2.954129501883,0.615910575646,-0.140500000000,0.378100000000,-0.310800000000,0.059900000000,2467.909655172410,205.659137931035),\n",
    "(62.475190741092,0.350000000000,2.205648259574,0.688278790005,0.876000000000,0.376000000000,0.018600000000,0.244600000000,5089.282758620690,424.106896551724),\n",
    "(51.727110769715,0.350000000000,3.500757838547,0.666830521277,1.013800000000,0.441200000000,-0.009700000000,0.184100000000,5431.994482758630,452.666206896552),\n",
    "(56.854688316970,0.350000000000,2.870487680961,0.696498414884,-0.699500000000,0.343800000000,-0.051200000000,-0.066800000000,4032.095172413790,336.007931034483),\n",
    "(49.035715733434,0.350000000000,3.626727467893,0.652872207539,-0.187400000000,0.392200000000,0.072300000000,0.189800000000,17158.334482758600,1429.861206896550),\n",
    "(58.236038776147,0.350000000000,2.412001798323,0.754925264061,-0.595400000000,0.346400000000,0.041700000000,0.293800000000,14460.122068965500,1205.010172413790),\n",
    "(37.844913645631,0.350000000000,2.515916933154,0.711997109780,-0.131500000000,0.329900000000,-0.144400000000,0.014000000000,954.796551724138,79.566379310345))"
   ],
   "metadata": {
    "collapsed": false,
    "pycharm": {
     "name": "#%%\n"
    }
   }
  },
  {
   "cell_type": "code",
   "execution_count": 3,
   "outputs": [],
   "source": [
    "#basics learned here:\n",
    "#https://apmonitor.com/pdc/index.php/Main/NonlinearProgramming\n",
    "\n",
    "#Equality constraint means that the constraint function result is to be zero whereas inequality means that it is to be NON NEGATIVE\n",
    "#Constraint Cheat Sheet (how to formulate your constraint function):\n",
    "# A<=B  becomes B-A\n",
    "# A=B   becomes B-A\n",
    "# A>=B  becomes -(B-A)\n",
    "#Alternately you can just specify the function and pass in limit values using scipy.optimize.NonLinearConstraint  (Way simpler)\n",
    "#also: https://docs.scipy.org/doc/scipy/reference/generated/scipy.optimize.NonlinearConstraint.html#scipy.optimize.NonlinearConstraint\n",
    "\n",
    "#Returns a function that returns clicks given spend.\n",
    "def make_clicks(intercept1,elasticity1) :\n",
    "    def click_fn(spend) :\n",
    "        return exp(intercept1 + (log(spend) * elasticity1 ))\n",
    "    return click_fn\n",
    "\n",
    "#Returns a function that returns orders given spend.\n",
    "#Not sure what cell1 and cell3 are in the original excel doc.\n",
    "def make_orders(clk_fn,intercept2,elasticity2,cell1,cell3) :\n",
    "    def orders_fn(spends) :\n",
    "        return 3.9 * exp(intercept2 + cell1 + cell3 + ( log(clk_fn(spends) ) * elasticity2 ) )\n",
    "    return orders_fn\n",
    "\n",
    "#This returns a function that calculates profit given spend. This is our objective function.\n",
    "def make_profit(order_fn, aov, product_margin) :\n",
    "    def profit_fn(spends) :\n",
    "        return (order_fn(spends) * aov * product_margin) - spends\n",
    "    return profit_fn\n",
    "\n",
    "def profit_helper(aov,product_margin,intercept1,elasticity1,intercept2,elasticity2,cell1,cell3) :\n",
    "    return make_profit(make_orders(make_clicks(intercept1,elasticity1),intercept2,elasticity2,cell1,cell3),aov,product_margin)\n",
    "\n",
    "def make_group_fn(start,end) :\n",
    "    def group_fn(spends) :\n",
    "        return sum(spends[start:end])\n",
    "    return group_fn\n",
    "\n",
    "#This is the alternate way of defining constraints.\n",
    "#You bake the limit in to the equation, but it is not double ended constraint.\n",
    "def make_group_fn_v2(start,end,limit) :\n",
    "    def group_fn(spends) :\n",
    "        return sum(spends[start:end])\n",
    "    return group_fn\n",
    "\n",
    "\n",
    "def init_spend(ranges) :\n",
    "    \"\"\"\n",
    "        Given a list of ranges (min,max) for each variable, init an array to a random value in the range.\n",
    "        This array is the data structure that is used during calculation. the 'spends'\n",
    "    :param ranges:\n",
    "    :return: np array\n",
    "    \"\"\"\n",
    "    rands = random.rand(1,len(ranges))[0]\n",
    "    z = list(zip(ranges,rands))\n",
    "    n2 = np.array(list(map(lambda tuple: tuple[0][0]+(tuple[0][1]-tuple[0][0])*tuple[1], z)))\n",
    "    return n2\n",
    "\n",
    "\n",
    "#Objective function is sum of profits.\n",
    "#Given a list of profit functions, and a list of spend variables (That we are optimizing)\n",
    "#Also, we want to maximize (but python only provides minimize, so flip the sign)\n",
    "def make_objective(profit_fns):\n",
    "    def objective_fn(spends) :\n",
    "        #Try to simplify sum(Map, apply)\n",
    "        sum_eq = 0.0\n",
    "        for i in range(0, len(profit_fns)):\n",
    "            sum_eq = sum_eq + profit_fns[i](spends[i])\n",
    "        return -sum_eq #flip the sign since we want to maximize\n",
    "    return objective_fn\n"
   ],
   "metadata": {
    "collapsed": false,
    "pycharm": {
     "name": "#%%\n"
    }
   }
  },
  {
   "cell_type": "code",
   "execution_count": 18,
   "outputs": [],
   "source": [
    "#Extract max,min from demo_data and transpose to min,max\n",
    "spend_bounds = list(map(lambda x: (x[1],x[0]),map(lambda x: x[8:10], demo_data)))\n",
    "\n",
    "profit_fns = list(map(lambda x: profit_helper(x[0],x[1],x[2],x[3],x[4],x[5],x[6],x[7]), demo_data))\n",
    "\n",
    "#Sum of all spends\n",
    "gall = NonlinearConstraint(make_group_fn(0,len(demo_data)), -np.inf, 45010)\n",
    "\n",
    "EPSILON = 0.01\n",
    "#Sum of a specific set(2,3,5) of spends = 1234.5\n",
    "g1 = NonlinearConstraint(make_group_fn(0,10), 30097.0-EPSILON, 30097.0+EPSILON)\n",
    "g2 = NonlinearConstraint(make_group_fn(10,16), 2358.0-EPSILON, 2358.0+EPSILON)\n",
    "g3 = NonlinearConstraint(make_group_fn(16,23), 2578.0-EPSILON, 2578.0+EPSILON)\n",
    "g4 = NonlinearConstraint(make_group_fn(23,30), 4734.0-EPSILON, 4734.0+EPSILON)\n",
    "g5 = NonlinearConstraint(make_group_fn(30,37), 5233.0-EPSILON, 5233.0+EPSILON)\n",
    "\n",
    "cons = ([g1,g2,g3,g4,g5,gall])\n",
    "#cons = ([g1,g2,g3,g4,g5])\n",
    "#cons = ([gall])\n",
    "\n",
    "#Alternate way of defining constraints.\n",
    "# con1 = {'type': 'ineq', 'fun': constraint1}\n",
    "# con2 = {'type': 'eq', 'fun': constraint2}\n",
    "# cons = ([con1,con2])\n",
    "\n",
    "objective = make_objective(profit_fns)\n"
   ],
   "metadata": {
    "collapsed": false,
    "pycharm": {
     "name": "#%%\n"
    }
   }
  },
  {
   "cell_type": "code",
   "execution_count": 32,
   "outputs": [
    {
     "name": "stdout",
     "output_type": "stream",
     "text": [
      "fail:1\n",
      "fail:2\n",
      "fail:3\n",
      "fail:4\n",
      "success:5\n"
     ]
    }
   ],
   "source": [
    "#trust-constr\n",
    "#method='SLSQP',\n",
    "solution=None\n",
    "retry=True\n",
    "counter=0\n",
    "#Have to retry because non-linear/etc/etc\n",
    "while retry and counter<100 :\n",
    "    counter=counter+1\n",
    "    try:\n",
    "        spends = init_spend(spend_bounds)\n",
    "        solution = minimize(objective,\n",
    "                            spends,\n",
    "                            method='SLSQP',\n",
    "                            bounds=spend_bounds,\n",
    "                            constraints=cons)\n",
    "        print(\"success:\" + str(counter))\n",
    "        retry=False\n",
    "    except:\n",
    "        print(\"fail:\" + str(counter))\n",
    "        retry=True"
   ],
   "metadata": {
    "collapsed": false,
    "pycharm": {
     "name": "#%%\n"
    }
   }
  },
  {
   "cell_type": "code",
   "execution_count": 33,
   "outputs": [
    {
     "name": "stdout",
     "output_type": "stream",
     "text": [
      "[ 2678.11241378  6266.94268491   514.85293103  2851.18344828\n",
      "  1305.69448276   380.81241379  2940.93155172 10157.74051729\n",
      "  2447.49448276   553.24507368   135.81661826   582.7870051\n",
      "   229.56517241   636.37741112   315.28241379   458.18137931\n",
      "   145.1737931    271.94448276   212.4187931    117.25862069\n",
      "   496.74241379   798.46896552   536.00293103   248.73054888\n",
      "   570.81794754   830.34131905   464.32777073  1196.02051724\n",
      "   715.71241379   708.03948276   205.65913793   424.10689655\n",
      "  1552.79827586   336.00793103  1429.86120691  1205.01017241\n",
      "    79.56637931]\n"
     ]
    }
   ],
   "source": [
    "print(solution.x)"
   ],
   "metadata": {
    "collapsed": false,
    "pycharm": {
     "name": "#%%\n"
    }
   }
  },
  {
   "cell_type": "code",
   "execution_count": null,
   "outputs": [],
   "source": [],
   "metadata": {
    "collapsed": false,
    "pycharm": {
     "name": "#%%\n"
    }
   }
  }
 ],
 "metadata": {
  "kernelspec": {
   "display_name": "Python 3",
   "language": "python",
   "name": "python3"
  },
  "language_info": {
   "codemirror_mode": {
    "name": "ipython",
    "version": 2
   },
   "file_extension": ".py",
   "mimetype": "text/x-python",
   "name": "python",
   "nbconvert_exporter": "python",
   "pygments_lexer": "ipython2",
   "version": "2.7.6"
  }
 },
 "nbformat": 4,
 "nbformat_minor": 0
}