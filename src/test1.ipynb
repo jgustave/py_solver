{
 "cells": [
  {
   "cell_type": "code",
   "execution_count": 6,
   "metadata": {
    "collapsed": true
   },
   "outputs": [
    {
     "data": {
      "text/plain": "24"
     },
     "execution_count": 6,
     "metadata": {},
     "output_type": "execute_result"
    }
   ],
   "source": [
    "from math import exp\n",
    "from math import log\n",
    "\n",
    "def clicks(intercept1,elasticity1) :\n",
    "    def partial_foo(spend) :\n",
    "        return(exp(3))\n",
    "    return partial_foo\n",
    "\n",
    "\n",
    "def partial(a,b) :\n",
    "    def partial_foo(x) :\n",
    "        return(a*b*x)\n",
    "    return partial_foo\n",
    "\n",
    "blah=partial(3,4)\n",
    "\n",
    "blah(2)"
   ]
  },
  {
   "cell_type": "code",
   "execution_count": 3,
   "outputs": [],
   "source": [
    "partials= [partial(2,3),partial(4,5)]\n"
   ],
   "metadata": {
    "collapsed": false,
    "pycharm": {
     "name": "#%%\n"
    }
   }
  },
  {
   "cell_type": "code",
   "execution_count": 5,
   "outputs": [
    {
     "data": {
      "text/plain": "40"
     },
     "execution_count": 5,
     "metadata": {},
     "output_type": "execute_result"
    }
   ],
   "source": [
    "partials[1](2)"
   ],
   "metadata": {
    "collapsed": false,
    "pycharm": {
     "name": "#%%\n"
    }
   }
  },
  {
   "cell_type": "code",
   "execution_count": 14,
   "outputs": [],
   "source": [
    "\n",
    "#Returns a function that returns clicks given spend.\n",
    "def make_clicks(intercept1,elasticity1) :\n",
    "    def click_fn(spend) :\n",
    "        return( exp(intercept1 + (log(spend) * elasticity1 )) )\n",
    "    return click_fn\n",
    "\n",
    "#Returns a function that returns orders given spend.\n",
    "#Not sure what cell1 and cell3 are in the original excel doc.\n",
    "def make_orders(clk_fn,intercept2,elasticity2,cell1,cell3) :\n",
    "    def orders_fn(spend) :\n",
    "        return 3.9 * exp(intercept2 + cell1 + cell3 + ( log(clk_fn(spend) ) * elasticity2 ) )\n",
    "    return orders_fn"
   ],
   "metadata": {
    "collapsed": false,
    "pycharm": {
     "name": "#%%\n"
    }
   }
  },
  {
   "cell_type": "code",
   "execution_count": 15,
   "outputs": [],
   "source": [
    "click_fn = make_clicks(1.24,0.97)\n",
    "order_fn = make_orders(click_fn,0.95,0.49,0.02,0.09)"
   ],
   "metadata": {
    "collapsed": false,
    "pycharm": {
     "name": "#%%\n"
    }
   }
  },
  {
   "cell_type": "code",
   "execution_count": 16,
   "outputs": [
    {
     "data": {
      "text/plain": "39.94415137916236"
     },
     "execution_count": 16,
     "metadata": {},
     "output_type": "execute_result"
    }
   ],
   "source": [
    "order_fn(4)"
   ],
   "metadata": {
    "collapsed": false,
    "pycharm": {
     "name": "#%%\n"
    }
   }
  },
  {
   "cell_type": "code",
   "execution_count": 17,
   "outputs": [],
   "source": [
    "def make_profit(order_fn, aov, product_margin) :\n",
    "    def profit_fn(spend) :\n",
    "        return (order_fn(spend) * aov * product_margin) - spend\n",
    "    return profit_fn\n",
    "\n"
   ],
   "metadata": {
    "collapsed": false,
    "pycharm": {
     "name": "#%%\n"
    }
   }
  },
  {
   "cell_type": "code",
   "execution_count": 21,
   "outputs": [
    {
     "data": {
      "text/plain": "1252.0453950447863"
     },
     "execution_count": 21,
     "metadata": {},
     "output_type": "execute_result"
    }
   ],
   "source": [
    "foo = make_profit(make_orders(make_clicks(1.24,0.97),0.95,0.49,0.02,0.09),58.4,0.35)\n",
    "spend=10\n",
    "foo(spend)"
   ],
   "metadata": {
    "collapsed": false,
    "pycharm": {
     "name": "#%%\n"
    }
   }
  },
  {
   "cell_type": "code",
   "execution_count": null,
   "outputs": [],
   "source": [],
   "metadata": {
    "collapsed": false,
    "pycharm": {
     "name": "#%%\n"
    }
   }
  }
 ],
 "metadata": {
  "kernelspec": {
   "display_name": "Python 3",
   "language": "python",
   "name": "python3"
  },
  "language_info": {
   "codemirror_mode": {
    "name": "ipython",
    "version": 2
   },
   "file_extension": ".py",
   "mimetype": "text/x-python",
   "name": "python",
   "nbconvert_exporter": "python",
   "pygments_lexer": "ipython2",
   "version": "2.7.6"
  }
 },
 "nbformat": 4,
 "nbformat_minor": 0
}