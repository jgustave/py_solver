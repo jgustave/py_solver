{
 "cells": [
  {
   "cell_type": "code",
   "execution_count": 1,
   "metadata": {
    "collapsed": true
   },
   "outputs": [
    {
     "data": {
      "text/plain": "24"
     },
     "execution_count": 1,
     "metadata": {},
     "output_type": "execute_result"
    }
   ],
   "source": [
    "from math import exp\n",
    "from math import log\n",
    "from scipy.optimize import minimize\n",
    "from numpy import random"
   ]
  },
  {
   "cell_type": "code",
   "execution_count": 2,
   "outputs": [],
   "source": [
    "\n",
    "#Returns a function that returns clicks given spend.\n",
    "def make_clicks(intercept1,elasticity1) :\n",
    "    def click_fn(spend) :\n",
    "        return( exp(intercept1 + (log(spend) * elasticity1 )) )\n",
    "    return click_fn\n",
    "\n",
    "#Returns a function that returns orders given spend.\n",
    "#Not sure what cell1 and cell3 are in the original excel doc.\n",
    "def make_orders(clk_fn,intercept2,elasticity2,cell1,cell3) :\n",
    "    def orders_fn(spend) :\n",
    "        return 3.9 * exp(intercept2 + cell1 + cell3 + ( log(clk_fn(spend) ) * elasticity2 ) )\n",
    "    return orders_fn\n",
    "\n",
    "def make_profit(order_fn, aov, product_margin) :\n",
    "    def profit_fn(spend) :\n",
    "        return (order_fn(spend) * aov * product_margin) - spend\n",
    "    return profit_fn\n"
   ],
   "metadata": {
    "collapsed": false,
    "pycharm": {
     "name": "#%%\n"
    }
   }
  },
  {
   "cell_type": "code",
   "execution_count": 3,
   "outputs": [
    {
     "data": {
      "text/plain": "1252.0453950447863"
     },
     "execution_count": 3,
     "metadata": {},
     "output_type": "execute_result"
    }
   ],
   "source": [
    "foo = make_profit(make_orders(make_clicks(1.24,0.97),0.95,0.49,0.02,0.09),58.4,0.35)\n",
    "spend=10\n",
    "foo(spend)"
   ],
   "metadata": {
    "collapsed": false,
    "pycharm": {
     "name": "#%%\n"
    }
   }
  },
  {
   "cell_type": "code",
   "execution_count": 57,
   "outputs": [],
   "source": [
    "ranges = ((1,4),(100,300),(55,99))\n",
    "def init_spend(ranges) :\n",
    "    rands = random.rand(1,len(ranges))[0]\n",
    "    z = list(zip(ranges,rands))\n",
    "    n2 = list(map(lambda row: row[0][0]+(row[0][1]-row[0][0])*row[1], z))\n",
    "    return n2"
   ],
   "metadata": {
    "collapsed": false,
    "pycharm": {
     "name": "#%%\n"
    }
   }
  },
  {
   "cell_type": "code",
   "execution_count": 70,
   "outputs": [
    {
     "data": {
      "text/plain": "[2.160329864445166, 260.17567534197013, 61.55792136016724]"
     },
     "execution_count": 70,
     "metadata": {},
     "output_type": "execute_result"
    }
   ],
   "source": [
    "init_spend(ranges)"
   ],
   "metadata": {
    "collapsed": false,
    "pycharm": {
     "name": "#%%\n"
    }
   }
  },
  {
   "cell_type": "code",
   "execution_count": 73,
   "outputs": [],
   "source": [
    "import numpy as np\n",
    "ind = np.array((3,5,6))\n",
    "a = np.array((10,11,12,13,14,15,16))\n",
    "v = a[ind]"
   ],
   "metadata": {
    "collapsed": false,
    "pycharm": {
     "name": "#%%\n"
    }
   }
  },
  {
   "cell_type": "code",
   "execution_count": 74,
   "outputs": [
    {
     "name": "stdout",
     "output_type": "stream",
     "text": [
      "[13 15 16]\n"
     ]
    }
   ],
   "source": [
    "print(v)\n"
   ],
   "metadata": {
    "collapsed": false,
    "pycharm": {
     "name": "#%%\n"
    }
   }
  },
  {
   "cell_type": "code",
   "execution_count": null,
   "outputs": [],
   "source": [],
   "metadata": {
    "collapsed": false,
    "pycharm": {
     "name": "#%%\n"
    }
   }
  }
 ],
 "metadata": {
  "kernelspec": {
   "display_name": "Python 3",
   "language": "python",
   "name": "python3"
  },
  "language_info": {
   "codemirror_mode": {
    "name": "ipython",
    "version": 2
   },
   "file_extension": ".py",
   "mimetype": "text/x-python",
   "name": "python",
   "nbconvert_exporter": "python",
   "pygments_lexer": "ipython2",
   "version": "2.7.6"
  }
 },
 "nbformat": 4,
 "nbformat_minor": 0
}